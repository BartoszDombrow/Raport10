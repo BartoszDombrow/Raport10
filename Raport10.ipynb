{
  "nbformat": 4,
  "nbformat_minor": 0,
  "metadata": {
    "colab": {
      "provenance": [],
      "authorship_tag": "ABX9TyNTeuYk7qnFf5wKY9V89vcQ",
      "include_colab_link": true
    },
    "kernelspec": {
      "name": "python3",
      "display_name": "Python 3"
    },
    "language_info": {
      "name": "python"
    }
  },
  "cells": [
    {
      "cell_type": "markdown",
      "metadata": {
        "id": "view-in-github",
        "colab_type": "text"
      },
      "source": [
        "<a href=\"https://colab.research.google.com/github/BartoszDombrow/Raport10/blob/main/Raport10.ipynb\" target=\"_parent\"><img src=\"https://colab.research.google.com/assets/colab-badge.svg\" alt=\"Open In Colab\"/></a>"
      ]
    },
    {
      "cell_type": "code",
      "execution_count": 1,
      "metadata": {
        "colab": {
          "base_uri": "https://localhost:8080/"
        },
        "id": "dDafeFSVj1UI",
        "outputId": "143cc3a7-7049-4692-d1f0-3dcd5cd63904"
      },
      "outputs": [
        {
          "output_type": "stream",
          "name": "stdout",
          "text": [
            "--2025-05-18 18:02:21--  https://raw.githubusercontent.com/DrMichalWojcik/Raport10/refs/heads/main/googleplaystore.csv\n",
            "Resolving raw.githubusercontent.com (raw.githubusercontent.com)... 185.199.108.133, 185.199.109.133, 185.199.110.133, ...\n",
            "Connecting to raw.githubusercontent.com (raw.githubusercontent.com)|185.199.108.133|:443... connected.\n",
            "HTTP request sent, awaiting response... 200 OK\n",
            "Length: 1349314 (1.3M) [text/plain]\n",
            "Saving to: ‘google_wget.csv’\n",
            "\n",
            "\rgoogle_wget.csv       0%[                    ]       0  --.-KB/s               \rgoogle_wget.csv     100%[===================>]   1.29M  --.-KB/s    in 0.02s   \n",
            "\n",
            "2025-05-18 18:02:21 (55.0 MB/s) - ‘google_wget.csv’ saved [1349314/1349314]\n",
            "\n",
            "--2025-05-18 18:02:21--  https://dq-content.s3.amazonaws.com/350/AppleStore.csv\n",
            "Resolving dq-content.s3.amazonaws.com (dq-content.s3.amazonaws.com)... 16.15.193.122, 3.5.22.26, 3.5.16.183, ...\n",
            "Connecting to dq-content.s3.amazonaws.com (dq-content.s3.amazonaws.com)|16.15.193.122|:443... connected.\n",
            "HTTP request sent, awaiting response... 200 OK\n",
            "Length: 725761 (709K) [text/csv]\n",
            "Saving to: ‘apple_wget.csv’\n",
            "\n",
            "apple_wget.csv      100%[===================>] 708.75K  1.32MB/s    in 0.5s    \n",
            "\n",
            "2025-05-18 18:02:22 (1.32 MB/s) - ‘apple_wget.csv’ saved [725761/725761]\n",
            "\n"
          ]
        }
      ],
      "source": [
        "!wget https://raw.githubusercontent.com/DrMichalWojcik/Raport10/refs/heads/main/googleplaystore.csv -O google_wget.csv\n",
        "!wget https://dq-content.s3.amazonaws.com/350/AppleStore.csv -O apple_wget.csv\n",
        "\n",
        "from csv import reader\n",
        "google = list(reader(open('google_wget.csv')))\n",
        "apple = list(reader(open('apple_wget.csv')))\n",
        "\n",
        "apple = apple[1:]\n",
        "google = google[1:]\n",
        "\n",
        "apple_header = apple[0]\n",
        "google_header = google[0]"
      ]
    },
    {
      "cell_type": "code",
      "source": [
        "def only_good_length_rows(dataset, header):\n",
        "    return [row for row in dataset if len(row) == len(header)]\n",
        "\n",
        "def remove_duplicates(dataset, index_name, index_reviews):\n",
        "    reviews_max = {}\n",
        "    for app in dataset:\n",
        "        name = app[index_name]\n",
        "        n_reviews = float(app[index_reviews])\n",
        "        if name in reviews_max:\n",
        "            if reviews_max[name] < n_reviews:\n",
        "                reviews_max[name] = n_reviews\n",
        "        else:\n",
        "            reviews_max[name] = n_reviews\n",
        "\n",
        "    clean = []\n",
        "    already_added = []\n",
        "    for app in dataset:\n",
        "        name = app[index_name]\n",
        "        n_reviews = float(app[index_reviews])\n",
        "        if (reviews_max[name] == n_reviews) and (name not in already_added):\n",
        "            clean.append(app)\n",
        "            already_added.append(name)\n",
        "    return clean\n",
        "\n",
        "def is_english(string):\n",
        "    non_ascii = sum(1 for c in string if ord(c) > 127)\n",
        "    return non_ascii <= 3\n",
        "\n",
        "def remove_non_english_apps(dataset, index):\n",
        "    return [row for row in dataset if is_english(row[index])]\n",
        "\n",
        "def only_free_apps(dataset, index):\n",
        "    return [row for row in dataset if row[index] == '0' or row[index] == '0.0']\n",
        "\n",
        "def google_ready():\n",
        "    google_step2 = google\n",
        "    google_step3 = only_good_length_rows(google_step2, google_header)\n",
        "    google_step5 = remove_duplicates(google_step3, 0, 3)\n",
        "    google_step7 = remove_non_english_apps(google_step5, 0)\n",
        "    google_English_free = only_free_apps(google_step7, 7)\n",
        "    return google_English_free\n",
        "\n",
        "def apple_ready():\n",
        "    apple_step2 = apple\n",
        "    apple_step3 = only_good_length_rows(apple_step2, apple_header)\n",
        "    apple_step5 = apple_step3\n",
        "    apple_step7 = remove_non_english_apps(apple_step5, 1)\n",
        "    apple_English_free = only_free_apps(apple_step7, 4)\n",
        "    return apple_English_free\n",
        "\n",
        "free_google = google_ready()\n",
        "free_apple = apple_ready()\n",
        "\n",
        "def verify_ready():\n",
        "    google_OK = google_ready() == free_google\n",
        "    apple_OK = apple_ready() == free_apple\n",
        "    print(\"google:\", google_OK, \"apple:\", apple_OK)\n",
        "    return google_OK and apple_OK\n",
        "\n",
        "verify_ready()\n"
      ],
      "metadata": {
        "colab": {
          "base_uri": "https://localhost:8080/"
        },
        "id": "8exaMQMrj9_O",
        "outputId": "4ebb56c2-5ffa-4345-b82a-6ac549992b84"
      },
      "execution_count": 2,
      "outputs": [
        {
          "output_type": "stream",
          "name": "stdout",
          "text": [
            "google: True apple: True\n"
          ]
        },
        {
          "output_type": "execute_result",
          "data": {
            "text/plain": [
              "True"
            ]
          },
          "metadata": {},
          "execution_count": 2
        }
      ]
    },
    {
      "cell_type": "code",
      "source": [
        "def explore_data(dataset, start, end, rows_and_columns=False):\n",
        "    dataset_slice = dataset[start:end]\n",
        "    for row in dataset_slice:\n",
        "        print(row)\n",
        "        print('\\n')\n",
        "    if rows_and_columns:\n",
        "      print('Number of rows:', len(dataset))\n",
        "      print('Number of columns:', len(dataset[0]))\n",
        "\n",
        "explore_data(google, 0, 3, True)"
      ],
      "metadata": {
        "colab": {
          "base_uri": "https://localhost:8080/"
        },
        "id": "yTf1N0TwkA2w",
        "outputId": "39b52ad3-73f6-4d07-c7b6-90be93439338"
      },
      "execution_count": 3,
      "outputs": [
        {
          "output_type": "stream",
          "name": "stdout",
          "text": [
            "['Photo Editor & Candy Camera & Grid & ScrapBook', 'ART_AND_DESIGN', '4.1', '159', '19M', '10,000+', 'Free', '0', 'Everyone', 'Art & Design', 'January 7, 2018', '1.0.0', '4.0.3 and up']\n",
            "\n",
            "\n",
            "['Coloring book moana', 'ART_AND_DESIGN', '3.9', '967', '14M', '500,000+', 'Free', '0', 'Everyone', 'Art & Design;Pretend Play', 'January 15, 2018', '2.0.0', '4.0.3 and up']\n",
            "\n",
            "\n",
            "['U Launcher Lite – FREE Live Cool Themes, Hide Apps', 'ART_AND_DESIGN', '4.7', '87510', '8.7M', '5,000,000+', 'Free', '0', 'Everyone', 'Art & Design', 'August 1, 2018', '1.2.4', '4.0.3 and up']\n",
            "\n",
            "\n",
            "Number of rows: 10841\n",
            "Number of columns: 13\n"
          ]
        }
      ]
    },
    {
      "cell_type": "code",
      "source": [
        "def unich_step12_2():\n",
        "    unich = '''\n",
        "    Social Networking : 71548.34905660378\n",
        "    Photo & Video : 28441.54375\n",
        "    Games : 22788.6696905016\n",
        "    Music : 57326.530303030304\n",
        "    Reference : 74942.11111111111\n",
        "    Health & Fitness : 23298.015384615384\n",
        "    Weather : 52279.892857142855\n",
        "    Utilities : 18684.456790123455\n",
        "    Travel : 28243.8\n",
        "    Shopping : 26919.690476190477\n",
        "    News : 21248.023255813954\n",
        "    Navigation : 86090.33333333333\n",
        "    Lifestyle : 16485.764705882353\n",
        "    Entertainment : 14029.830708661417\n",
        "    Food & Drink : 33333.92307692308\n",
        "    Sports : 23008.898550724636\n",
        "    Book : 39758.5\n",
        "    Finance : 31467.944444444445\n",
        "    Education : 7003.983050847458\n",
        "    Productivity : 21028.410714285714\n",
        "    Business : 7491.117647058823\n",
        "    Catalogs : 4004.0\n",
        "    Medical : 612.0\n",
        "    '''\n",
        "    dct = {}\n",
        "    for line in unich.strip().splitlines():\n",
        "        genre, avg = line.split(':')\n",
        "        dct[genre.strip()] = int(round(float(avg.strip()), 0))\n",
        "    return sorted(dct.items(), key=lambda x: x[1], reverse=True)\n",
        "\n",
        "def unich_step13_2():\n",
        "    unich = '''\n",
        "    ART_AND_DESIGN : 1986335.0877192982\n",
        "    AUTO_AND_VEHICLES : 647317.8170731707\n",
        "    BEAUTY : 513151.88679245283\n",
        "    BOOKS_AND_REFERENCE : 8767811.894736841\n",
        "    BUSINESS : 1712290.1474201474\n",
        "    COMICS : 817657.2727272727\n",
        "    COMMUNICATION : 38456119.167247385\n",
        "    DATING : 854028.8303030303\n",
        "    EDUCATION : 1833495.145631068\n",
        "    ENTERTAINMENT : 11640705.88235294\n",
        "    EVENTS : 253542.22222222222\n",
        "    FINANCE : 1387692.475609756\n",
        "    FOOD_AND_DRINK : 1924897.7363636363\n",
        "    HEALTH_AND_FITNESS : 4188821.9853479853\n",
        "    HOUSE_AND_HOME : 1331540.5616438356\n",
        "    LIBRARIES_AND_DEMO : 638503.734939759\n",
        "    LIFESTYLE : 1437816.2687861272\n",
        "    GAME : 15588015.603248259\n",
        "    FAMILY : 3695641.8198090694\n",
        "    MEDICAL : 120550.61980830671\n",
        "    SOCIAL : 23253652.127118643\n",
        "    SHOPPING : 7036877.311557789\n",
        "    PHOTOGRAPHY : 17840110.40229885\n",
        "    SPORTS : 3638640.1428571427\n",
        "    TRAVEL_AND_LOCAL : 13984077.710144928\n",
        "    TOOLS : 10801391.298666667\n",
        "    PERSONALIZATION : 5201482.6122448975\n",
        "    PRODUCTIVITY : 16787331.344927534\n",
        "    PARENTING : 542603.6206896552\n",
        "    WEATHER : 5074486.197183099\n",
        "    VIDEO_PLAYERS : 24727872.452830188\n",
        "    NEWS_AND_MAGAZINES : 9549178.467741935\n",
        "    MAPS_AND_NAVIGATION : 4056941.7741935486\n",
        "    '''\n",
        "    dct = {}\n",
        "    for line in unich.strip().splitlines():\n",
        "        genre, avg = line.split(':')\n",
        "        dct[genre.strip()] = int(round(float(avg.strip()), 0))\n",
        "    return sorted(dct.items(), key=lambda x: x[1], reverse=True)\n",
        "\n",
        "step12_2 = unich_step12_2()\n",
        "step13_2 = unich_step13_2()\n",
        "\n",
        "def verify_step12_2():\n",
        "    return unich_step12_2() == step12_2\n",
        "\n",
        "def verify_step13_2():\n",
        "    return unich_step13_2() == step13_2\n",
        "\n",
        "print(verify_step12_2())\n",
        "print(verify_step13_2())\n"
      ],
      "metadata": {
        "colab": {
          "base_uri": "https://localhost:8080/"
        },
        "id": "BkySkE7wkENG",
        "outputId": "3c197da5-de2a-4ee0-c6ea-a800dff8e740"
      },
      "execution_count": 4,
      "outputs": [
        {
          "output_type": "stream",
          "name": "stdout",
          "text": [
            "True\n",
            "True\n"
          ]
        }
      ]
    }
  ]
}