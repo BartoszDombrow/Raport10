{
  "nbformat": 4,
  "nbformat_minor": 0,
  "metadata": {
    "colab": {
      "provenance": [],
      "toc_visible": true,
      "authorship_tag": "ABX9TyNu3njox6tQ4yOXEPeeR8UA",
      "include_colab_link": true
    },
    "kernelspec": {
      "name": "python3",
      "display_name": "Python 3"
    },
    "language_info": {
      "name": "python"
    }
  },
  "cells": [
    {
      "cell_type": "markdown",
      "metadata": {
        "id": "view-in-github",
        "colab_type": "text"
      },
      "source": [
        "<a href=\"https://colab.research.google.com/github/BartoszDombrow/Raport10/blob/main/Raport10.ipynb\" target=\"_parent\"><img src=\"https://colab.research.google.com/assets/colab-badge.svg\" alt=\"Open In Colab\"/></a>"
      ]
    },
    {
      "cell_type": "code",
      "source": [
        "!wget https://raw.githubusercontent.com/BartoszDombrow/Raport10/refs/heads/main/googleplaystore.csv -O google_wget.csv\n",
        "!wget https://raw.githubusercontent.com/BartoszDombrow/Raport10/refs/heads/main/AppleStore.csv -O apple_wget.csv"
      ],
      "metadata": {
        "colab": {
          "base_uri": "https://localhost:8080/"
        },
        "id": "3CN1NqTLmpex",
        "outputId": "1e2e6306-82f8-409b-d251-baa3da7947ba"
      },
      "execution_count": 31,
      "outputs": [
        {
          "output_type": "stream",
          "name": "stdout",
          "text": [
            "--2025-05-18 18:26:24--  https://raw.githubusercontent.com/BartoszDombrow/Raport10/refs/heads/main/googleplaystore.csv\n",
            "Resolving raw.githubusercontent.com (raw.githubusercontent.com)... 185.199.108.133, 185.199.109.133, 185.199.110.133, ...\n",
            "Connecting to raw.githubusercontent.com (raw.githubusercontent.com)|185.199.108.133|:443... connected.\n",
            "HTTP request sent, awaiting response... 200 OK\n",
            "Length: 1349314 (1.3M) [text/plain]\n",
            "Saving to: ‘google_wget.csv’\n",
            "\n",
            "google_wget.csv     100%[===================>]   1.29M  --.-KB/s    in 0.03s   \n",
            "\n",
            "2025-05-18 18:26:25 (47.2 MB/s) - ‘google_wget.csv’ saved [1349314/1349314]\n",
            "\n",
            "--2025-05-18 18:26:25--  https://raw.githubusercontent.com/BartoszDombrow/Raport10/refs/heads/main/AppleStore.csv\n",
            "Resolving raw.githubusercontent.com (raw.githubusercontent.com)... 185.199.108.133, 185.199.110.133, 185.199.111.133, ...\n",
            "Connecting to raw.githubusercontent.com (raw.githubusercontent.com)|185.199.108.133|:443... connected.\n",
            "HTTP request sent, awaiting response... 200 OK\n",
            "Length: 725761 (709K) [text/plain]\n",
            "Saving to: ‘apple_wget.csv’\n",
            "\n",
            "apple_wget.csv      100%[===================>] 708.75K  --.-KB/s    in 0.03s   \n",
            "\n",
            "2025-05-18 18:26:25 (26.1 MB/s) - ‘apple_wget.csv’ saved [725761/725761]\n",
            "\n"
          ]
        }
      ]
    },
    {
      "cell_type": "code",
      "source": [
        "import csv\n",
        "from collections import Counter, defaultdict\n",
        "\n",
        "def raw_google():\n",
        "    with open(\"google_wget.csv\", encoding='utf-8') as f:\n",
        "        return list(csv.reader(f))\n",
        "\n",
        "def raw_apple():\n",
        "    with open(\"apple_wget.csv\", encoding='utf-8') as f:\n",
        "        return list(csv.reader(f))\n",
        "\n",
        "\n",
        "def only_good_length_rows(data):\n",
        "    return [row for row in data if len(row) == len(data[0])]\n"
      ],
      "metadata": {
        "id": "SHOeXv-_pdWx"
      },
      "execution_count": 39,
      "outputs": []
    },
    {
      "cell_type": "code",
      "source": [
        "def step5_google(data):\n",
        "    seen = {}\n",
        "    for row in data:\n",
        "        name = row[0]\n",
        "        try:\n",
        "            reviews = float(row[3])\n",
        "        except ValueError:\n",
        "            continue\n",
        "        if name not in seen or reviews > seen[name][0]:\n",
        "            seen[name] = (reviews, row)\n",
        "    return [entry[1] for entry in seen.values()]\n",
        "\n",
        "\n",
        "def is_english(string):\n",
        "    return sum(ord(c) > 127 for c in string) <= 3"
      ],
      "metadata": {
        "id": "mdIMnRTMplL9"
      },
      "execution_count": 33,
      "outputs": []
    },
    {
      "cell_type": "code",
      "source": [
        "def step7(data, name_index):\n",
        "    english = []\n",
        "    non_english = []\n",
        "    for row in data:\n",
        "        if is_english(row[name_index]):\n",
        "            english.append(row)\n",
        "        else:\n",
        "            non_english.append(row)\n",
        "    return english, non_english"
      ],
      "metadata": {
        "id": "SUrd4ef-pqJJ"
      },
      "execution_count": 34,
      "outputs": []
    },
    {
      "cell_type": "code",
      "source": [
        "def step8(data, price_index):\n",
        "    return [row for row in data if row[price_index] in ['0', '0.0']]\n",
        "\n",
        "\n",
        "def google_ready():\n",
        "    google_step2 = raw_google()\n",
        "    google_step3 = only_good_length_rows(google_step2)\n",
        "    google_step5 = step5_google(google_step3[1:])\n",
        "    google_step7, _ = step7(google_step5, 0)\n",
        "    google_English_free = step8(google_step7, 7)\n",
        "    return google_English_free\n",
        "\n",
        "def apple_ready():\n",
        "    apple_step2 = raw_apple()\n",
        "    apple_step3 = only_good_length_rows(apple_step2)\n",
        "    apple_step5 = apple_step3[1:]\n",
        "    apple_step7, _ = step7(apple_step5, 1)\n",
        "    apple_English_free = step8(apple_step7, 4)\n",
        "    return apple_English_free"
      ],
      "metadata": {
        "id": "bPYxXfy-pq1P"
      },
      "execution_count": 35,
      "outputs": []
    },
    {
      "cell_type": "code",
      "source": [
        "def step12_2():\n",
        "    data = apple_ready()\n",
        "    genres = defaultdict(list)\n",
        "    for row in data:\n",
        "        try:\n",
        "            genre = row[11]\n",
        "            reviews = int(row[5])\n",
        "            genres[genre].append(reviews)\n",
        "        except:\n",
        "            continue\n",
        "    avg_reviews = {\n",
        "        genre: int(round(sum(vals)/len(vals)))\n",
        "        for genre, vals in genres.items()\n",
        "    }\n",
        "    return sorted(avg_reviews.items(), key=lambda x: x[1], reverse=True)\n",
        "\n",
        "\n",
        "def unich_step12_2():\n",
        "    unich = '''\n",
        "    Social Networking : 71548.34905660378\n",
        "    Photo & Video : 28441.54375\n",
        "    Games : 22788.6696905016\n",
        "    Music : 57326.530303030304\n",
        "    Reference : 74942.11111111111\n",
        "    Health & Fitness : 23298.015384615384\n",
        "    Weather : 52279.892857142855\n",
        "    Utilities : 18684.456790123455\n",
        "    Travel : 28243.8\n",
        "    Shopping : 26919.690476190477\n",
        "    News : 21248.023255813954\n",
        "    Navigation : 86090.33333333333\n",
        "    Lifestyle : 16485.764705882353\n",
        "    Entertainment : 14029.830708661417\n",
        "    Food & Drink : 33333.92307692308\n",
        "    Sports : 23008.898550724636\n",
        "    Book : 39758.5\n",
        "    Finance : 31467.944444444445\n",
        "    Education : 7003.983050847458\n",
        "    Productivity : 21028.410714285714\n",
        "    Business : 7491.117647058823\n",
        "    Catalogs : 4004.0\n",
        "    Medical : 612.0\n",
        "    '''\n",
        "    dct = {}\n",
        "    for line in unich.strip().splitlines():\n",
        "        parsed = line.split(':')\n",
        "        genre = parsed[0].strip()\n",
        "        average = float(parsed[1].strip())\n",
        "        dct[genre] = int(round(average))\n",
        "    return sorted(dct.items(), key=lambda x: x[1], reverse=True)"
      ],
      "metadata": {
        "id": "V__8ZRa-pvJn"
      },
      "execution_count": 36,
      "outputs": []
    },
    {
      "cell_type": "code",
      "source": [
        "def step13_2():\n",
        "    data = google_ready()\n",
        "    categories = defaultdict(list)\n",
        "    for row in data:\n",
        "        cat = row[1]\n",
        "        try:\n",
        "            installs = int(row[5].replace('+', '').replace(',', ''))\n",
        "            categories[cat].append(installs)\n",
        "        except:\n",
        "            continue\n",
        "    avg_installs = {k: int(round(sum(v)/len(v))) for k, v in categories.items()}\n",
        "    return sorted(avg_installs.items(), key=lambda x: x[1], reverse=True)\n",
        "\n",
        "def verify_step12_2():\n",
        "    return unich_step12_2() == step12_2()\n",
        "\n",
        "def unich_step13_2():\n",
        "    unich = '''\n",
        "    COMMUNICATION : 38456119.167247385\n",
        "    VIDEO_PLAYERS : 24727872.452830188\n",
        "    SOCIAL : 23253652.127118643\n",
        "    PHOTOGRAPHY : 17805627.643678162\n",
        "    PRODUCTIVITY : 16787331.344927534\n",
        "    GAME : 15588015.603248259\n",
        "    TRAVEL_AND_LOCAL : 13984077.710144928\n",
        "    ENTERTAINMENT : 11640705.88235294\n",
        "    TOOLS : 10801391.298666667\n",
        "    NEWS_AND_MAGAZINES : 9549178.467741935\n",
        "    BOOKS_AND_REFERENCE : 8767811.894736841\n",
        "    SHOPPING : 7036877.311557789\n",
        "    PERSONALIZATION : 5201482.6122448975\n",
        "    WEATHER : 5074486.197183099\n",
        "    HEALTH_AND_FITNESS : 4188821.9853479853\n",
        "    MAPS_AND_NAVIGATION : 4056941.7741935486\n",
        "    FAMILY : 3695641.8198090694\n",
        "    SPORTS : 3638640.1428571427\n",
        "    ART_AND_DESIGN : 1986335.0877192982\n",
        "    FOOD_AND_DRINK : 1924897.7363636363\n",
        "    EDUCATION : 1833495.145631068\n",
        "    BUSINESS : 1712290.1474201474\n",
        "    LIFESTYLE : 1437816.2687861272\n",
        "    FINANCE : 1387692.475609756\n",
        "    HOUSE_AND_HOME : 1331540.5616438356\n",
        "    LIBRARIES_AND_DEMO : 638503.734939759\n",
        "    COMICS : 817657.2727272727\n",
        "    MEDICAL : 120550.61980830671\n",
        "    BEAUTY : 513151.88679245283\n",
        "    EVENTS : 253542.22222222222\n",
        "    PARENTING : 542603.6206896552\n",
        "    AUTO_AND_VEHICLES : 647317.8170731707\n",
        "    '''\n",
        "    dct = {}\n",
        "    for line in unich.strip().splitlines():\n",
        "        cat, avg = line.split(':')\n",
        "        dct[cat.strip()] = int(round(float(avg.strip())))\n",
        "    return sorted(dct.items(), key=lambda x: x[1], reverse=True)\n",
        "\n",
        "\n",
        "def verify_step13_2():\n",
        "    return unich_step13_2() == step13_2()\n",
        "\n",
        "\n",
        "verify_12 = verify_step12_2()\n",
        "verify_13 = verify_step13_2()\n",
        "\n",
        "(verify_12, verify_13)"
      ],
      "metadata": {
        "colab": {
          "base_uri": "https://localhost:8080/"
        },
        "id": "c4scyFaEp2zd",
        "outputId": "b26c596b-d42f-4ce2-a71e-15b52c08d8f0"
      },
      "execution_count": 37,
      "outputs": [
        {
          "output_type": "execute_result",
          "data": {
            "text/plain": [
              "(True, False)"
            ]
          },
          "metadata": {},
          "execution_count": 37
        }
      ]
    },
    {
      "cell_type": "code",
      "source": [
        "def diff_step13_2():\n",
        "    ours = dict(step13_2())\n",
        "    official = dict(unich_step13_2())\n",
        "\n",
        "    diff = {}\n",
        "    for key in official:\n",
        "        our_val = ours.get(key)\n",
        "        off_val = official.get(key)\n",
        "        if our_val != off_val:\n",
        "            diff[key] = (our_val, off_val)\n",
        "    return diff\n",
        "\n",
        "\n",
        "\n",
        "def step13_2_fixed():\n",
        "    data = google_ready()\n",
        "    categories = defaultdict(list)\n",
        "    for row in data:\n",
        "        cat = row[1]\n",
        "        installs = row[5].replace('+', '').replace(',', '').strip()\n",
        "        if installs.isdigit():\n",
        "            installs = int(installs)\n",
        "            categories[cat].append(installs)\n",
        "    avg_installs = {k: int(round(sum(v) / len(v))) for k, v in categories.items()}\n",
        "    return sorted(avg_installs.items(), key=lambda x: x[1], reverse=True)\n",
        "\n",
        "\n",
        "\n",
        "def top5_comparison():\n",
        "    ours = step13_2_fixed()[:5]\n",
        "    official = unich_step13_2()[:5]\n",
        "    return {'ours': ours, 'official': official}\n",
        "\n",
        "\n",
        "diff = diff_step13_2()\n",
        "top5 = top5_comparison()\n",
        "fixed_result = step13_2_fixed()\n",
        "fixed_vs_official = dict(fixed_result) == dict(unich_step13_2())\n",
        "\n",
        "(diff, top5, fixed_vs_official)"
      ],
      "metadata": {
        "colab": {
          "base_uri": "https://localhost:8080/"
        },
        "id": "CFIHNTCfp9Ga",
        "outputId": "f9dd3b90-2a42-4a10-bf6b-b8562dac4d38"
      },
      "execution_count": 38,
      "outputs": [
        {
          "output_type": "execute_result",
          "data": {
            "text/plain": [
              "({'PHOTOGRAPHY': (17840110, 17805628)},\n",
              " {'ours': [('COMMUNICATION', 38456119),\n",
              "   ('VIDEO_PLAYERS', 24727872),\n",
              "   ('SOCIAL', 23253652),\n",
              "   ('PHOTOGRAPHY', 17840110),\n",
              "   ('PRODUCTIVITY', 16787331)],\n",
              "  'official': [('COMMUNICATION', 38456119),\n",
              "   ('VIDEO_PLAYERS', 24727872),\n",
              "   ('SOCIAL', 23253652),\n",
              "   ('PHOTOGRAPHY', 17805628),\n",
              "   ('PRODUCTIVITY', 16787331)]},\n",
              " False)"
            ]
          },
          "metadata": {},
          "execution_count": 38
        }
      ]
    }
  ]
}